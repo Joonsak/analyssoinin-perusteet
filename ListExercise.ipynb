{
 "cells": [
  {
   "cell_type": "code",
   "execution_count": 39,
   "metadata": {},
   "outputs": [
    {
     "name": "stdout",
     "output_type": "stream",
     "text": [
      "['banana', 'food', 'fod']\n",
      "['banana', 'food']\n",
      "sofa\n"
     ]
    }
   ],
   "source": [
    "lkfjdgkjfdgddjhgjh=[\"banana\", \"food\", \"fod\"]\n",
    "print(lkfjdgkjfdgddjhgjh)\n",
    "print(lkfjdgkjfdgddjhgjh[:2])\n",
    "mylist=[\"table\", \"chair\", \"shelf\",\"sofa\"]\n",
    "find_String=(\"sofa\")\n",
    "if find_String in mylist:\n",
    "    print(find_String)\n",
    "\n",
    "\n"
   ]
  },
  {
   "cell_type": "code",
   "execution_count": 123,
   "metadata": {},
   "outputs": [
    {
     "name": "stdout",
     "output_type": "stream",
     "text": [
      "[5, 9, 3, 1, 10]\n",
      "28\n",
      "10\n"
     ]
    }
   ],
   "source": [
    "import random\n",
    "\n",
    "\n",
    "thrownDiceNumbers=[\"1\",\"2\",\"3\",\"4\",\"5\"]\n",
    "thrownDiceNumbers[0]=random.randint(1, 10)\n",
    "thrownDiceNumbers[1]=random.randint(1, 10)\n",
    "thrownDiceNumbers[2]=random.randint(1, 10)\n",
    "thrownDiceNumbers[3]=random.randint(1, 10)\n",
    "thrownDiceNumbers[4]=random.randint(1, 10)\n",
    "print(thrownDiceNumbers)\n",
    "print(sum(thrownDiceNumbers))\n",
    "print(max(thrownDiceNumbers))\n",
    "#tai voi tehdä sen thrownDiceNunmbers[randint(1,5), randint(1,5), randint(1,5), randint(1,5), randint(1,5)]\n"
   ]
  },
  {
   "cell_type": "code",
   "execution_count": 304,
   "metadata": {},
   "outputs": [
    {
     "name": "stdout",
     "output_type": "stream",
     "text": [
      "[4, 16, 5, 13, 6]\n"
     ]
    }
   ],
   "source": [
    "import random \n",
    "\n",
    "#randomNumbers=[1, 2, 3, 4, 5, 6, 7, 8, 9, 10, 11, 12, 13, 14, 15, 16, 17, 18, 19, 20]\n",
    "#print(randomNumbers[random.randint(0, 19)])\n",
    "#print(randomNumbers[random.randint(0, 19)])\n",
    "#print(randomNumbers[random.randint(0, 19)])\n",
    "#print(randomNumbers[random.randint(0, 19)])\n",
    "#print(randomNumbers[random.randint(0, 19)])\n",
    "#number1=random.randint(1, 20)\n",
    "#number2=random.randint(1, 20)\n",
    "#number3=random.randint(1, 20)\n",
    "#number4=random.randint(1, 20)\n",
    "#number5=random.randint(1, 20)\n",
    "#while(number1==number2 or number1==number3 or number1==number4 or number1==number5):   \n",
    "#   number1=random.randint(1, 20)\n",
    "#print(number1)\n",
    "#while(number2==number1 or number2==number3 or number2==number4 or number2==number5):\n",
    "#   number2=random.randint(1, 20)\n",
    "#print(number2)\n",
    "#while(number3==number1 or number3==number2 or number3==number4 or number3==number5):\n",
    "#   number3=random.randint(1, 20)\n",
    "#print(number3)\n",
    "#while(number4==number5 or number4==number3 or number4==number2 or number4==number1):\n",
    "#   number4=random.randint(1, 20)\n",
    "#print(number4)\n",
    "#print(number5)\n",
    "\n",
    "numbers = []\n",
    "for i in range(5):\n",
    "    number=random.randint(1, 20 - i)\n",
    "    while number in numbers:\n",
    "        number +=1\n",
    "        if number > 20:\n",
    "            number = 1\n",
    "    numbers.append(number)\n",
    "    #append tarkoittaa liittämistä \n",
    "print(numbers)\n",
    "\n",
    "\n",
    "\n",
    "\n"
   ]
  }
 ],
 "metadata": {
  "kernelspec": {
   "display_name": "Python 3",
   "language": "python",
   "name": "python3"
  },
  "language_info": {
   "codemirror_mode": {
    "name": "ipython",
    "version": 3
   },
   "file_extension": ".py",
   "mimetype": "text/x-python",
   "name": "python",
   "nbconvert_exporter": "python",
   "pygments_lexer": "ipython3",
   "version": "3.12.0"
  }
 },
 "nbformat": 4,
 "nbformat_minor": 2
}
