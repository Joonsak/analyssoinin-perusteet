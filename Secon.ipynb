{
 "cells": [
  {
   "cell_type": "code",
   "execution_count": 13,
   "metadata": {},
   "outputs": [
    {
     "name": "stdout",
     "output_type": "stream",
     "text": [
      "Hello what is your name?\n",
      "Itsraining outside\n",
      "BANANAAAAA\n",
      "0.5\n",
      "good job\n",
      "I don know...\n"
     ]
    }
   ],
   "source": [
    "#hey kommenti\n",
    "print(\"Hello what is your name?\")\n",
    "print('It''s' 'raining outside')\n",
    "food=input()\n",
    "grade=int(input(\"what is your grade?\"))\n",
    "print(food)\n",
    "a=5 ; b=6 ; c=4\n",
    "print((a-b+c)/b)\n",
    "if grade>=1:\n",
    "    print(\"good job\")\n",
    "elif grade<1:\n",
    "    print(\"bad job\")\n",
    "x=0\n",
    "while x<1:\n",
    "    print(\"I don know...\")\n",
    "    x=x+1\n"
   ]
  },
  {
   "cell_type": "code",
   "execution_count": null,
   "metadata": {},
   "outputs": [],
   "source": []
  },
  {
   "cell_type": "code",
   "execution_count": 22,
   "metadata": {},
   "outputs": [
    {
     "name": "stdout",
     "output_type": "stream",
     "text": [
      "True\n"
     ]
    }
   ],
   "source": [
    "print(True or False)"
   ]
  }
 ],
 "metadata": {
  "kernelspec": {
   "display_name": "Python 3",
   "language": "python",
   "name": "python3"
  },
  "language_info": {
   "codemirror_mode": {
    "name": "ipython",
    "version": 3
   },
   "file_extension": ".py",
   "mimetype": "text/x-python",
   "name": "python",
   "nbconvert_exporter": "python",
   "pygments_lexer": "ipython3",
   "version": "3.12.0"
  }
 },
 "nbformat": 4,
 "nbformat_minor": 2
}
