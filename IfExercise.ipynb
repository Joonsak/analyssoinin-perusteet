{
 "cells": [
  {
   "cell_type": "code",
   "execution_count": 10,
   "metadata": {},
   "outputs": [
    {
     "name": "stdout",
     "output_type": "stream",
     "text": [
      "number1 not equal to number2\n"
     ]
    }
   ],
   "source": [
    "number1=int(input(\"FIRST NUMBER!\"))\n",
    "number2=int(input(\"SECOND NUMBER!\"))\n",
    "number3=int(input(\"THIRD NUMBER!\"))\n",
    "if number1 == number2:\n",
    "    print(\"Equal!\")\n",
    "if number1 > number2:\n",
    "    print(\"Number1 greater!\")\n",
    "if number1 >= number2:\n",
    "    print(\"number1 equal or greater than number2.\")\n",
    "if number1 != number2:\n",
    "    print(\"number1 not equal to number2\")\n"
   ]
  },
  {
   "cell_type": "code",
   "execution_count": 11,
   "metadata": {},
   "outputs": [
    {
     "name": "stdout",
     "output_type": "stream",
     "text": [
      "number2 greater than number3\n"
     ]
    }
   ],
   "source": [
    "if number1 == number2 and number2 == number3 and number1 == number3:\n",
    "    print(\"ALL NUMBERS EQUAL\")\n",
    "if number1 == number2 or number2 == number3:\n",
    "    print(\"either number1 and number2 equal or number2 and number3 equal!\")\n",
    "if number1 > number2 and number1 > number3:\n",
    "    print(\"number1 greater than all other numbers!\")\n",
    "if number1 > number2:\n",
    "    print(\"number1 greater than number2\")\n",
    "elif number2 > number3:\n",
    "    print(\"number2 greater than number3\")\n",
    "if number1 == number2:\n",
    "    print(\"number1 and number2 are equal\")\n",
    "elif number2 == number3:\n",
    "    print(\"number2 and number3 are equal\")\n"
   ]
  },
  {
   "cell_type": "code",
   "execution_count": 13,
   "metadata": {},
   "outputs": [
    {
     "name": "stdout",
     "output_type": "stream",
     "text": [
      "name1 and name2 are not eqaul\n",
      "name1 and name3 are equal!\n"
     ]
    }
   ],
   "source": [
    "name1=input(\"NAME1!\")\n",
    "name2=input(\"NAME2!\")\n",
    "name3=input(\"NAME3!\")\n",
    "if name1 == name2:\n",
    "    print(\"name1 and name2 are equal\")\n",
    "if name1 != name2:\n",
    "    print(\"name1 and name2 are not eqaul\")\n",
    "if name1 == name2:\n",
    "    print(\"name1 and name2 are equal\")\n",
    "elif name1 == name3:\n",
    "    print(\"name1 and name3 are equal!\")"
   ]
  }
 ],
 "metadata": {
  "kernelspec": {
   "display_name": "Python 3",
   "language": "python",
   "name": "python3"
  },
  "language_info": {
   "codemirror_mode": {
    "name": "ipython",
    "version": 3
   },
   "file_extension": ".py",
   "mimetype": "text/x-python",
   "name": "python",
   "nbconvert_exporter": "python",
   "pygments_lexer": "ipython3",
   "version": "3.12.0"
  }
 },
 "nbformat": 4,
 "nbformat_minor": 2
}
