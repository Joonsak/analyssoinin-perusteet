{
 "cells": [
  {
   "cell_type": "code",
   "execution_count": 18,
   "metadata": {},
   "outputs": [
    {
     "name": "stdout",
     "output_type": "stream",
     "text": [
      "Printer App\n",
      "This app is made by Kalle.\n",
      "The value of number1 is  4 .\n",
      "The value of number2 is  27 .\n",
      "4  *  27 = 108\n",
      "4  +  27 = 31\n",
      "4  /  27 = 0.14814814814814814\n",
      "4  -  27 = -23\n"
     ]
    }
   ],
   "source": [
    "creator=input()\n",
    "number1=int(input())\n",
    "number2=int(input())\n",
    "multiplication=number1*number2\n",
    "addition=number1+number2\n",
    "division=number1/number2\n",
    "substraction=number1-number2\n",
    "print(\"Printer App\")\n",
    "print(\"This app is made by \"+creator+\".\")\n",
    "#print(number1)\n",
    "print('The value of number1 is ',number1,'.')\n",
    "print('The value of number2 is ',number2,\".\")\n",
    "print(number1,\"\",\"*\",\"\",number2,\"=\",multiplication)\n",
    "print(number1,\"\",\"+\",\"\",number2,\"=\",addition)\n",
    "print(number1,\"\",\"/\",\"\",number2,\"=\",division)\n",
    "print(number1,\"\",\"-\",\"\",number2,\"=\",substraction)"
   ]
  },
  {
   "cell_type": "code",
   "execution_count": null,
   "metadata": {},
   "outputs": [],
   "source": []
  },
  {
   "cell_type": "code",
   "execution_count": null,
   "metadata": {},
   "outputs": [],
   "source": []
  }
 ],
 "metadata": {
  "kernelspec": {
   "display_name": "Python 3",
   "language": "python",
   "name": "python3"
  },
  "language_info": {
   "codemirror_mode": {
    "name": "ipython",
    "version": 3
   },
   "file_extension": ".py",
   "mimetype": "text/x-python",
   "name": "python",
   "nbconvert_exporter": "python",
   "pygments_lexer": "ipython3",
   "version": "3.12.0"
  }
 },
 "nbformat": 4,
 "nbformat_minor": 2
}
