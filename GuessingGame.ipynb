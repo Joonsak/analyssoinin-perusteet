{
 "cells": [
  {
   "cell_type": "code",
   "execution_count": 6,
   "metadata": {},
   "outputs": [
    {
     "name": "stdout",
     "output_type": "stream",
     "text": [
      "Guess my name.\n",
      "try again? (y/n)\n",
      "hint: E\n",
      "Guess my name.\n",
      "try again? (y/n)\n",
      "hint: Em\n",
      "Guess my name.\n",
      "try again? (y/n)\n",
      "hint: Emm\n",
      "Guess my name.\n",
      "try again? (y/n)\n",
      "hint: Emma\n",
      "Guess my name.\n",
      "try again? (y/n)\n",
      "hint: Emma\n",
      "Guess my name.\n",
      "try again? (y/n)\n",
      "hint: Emma\n",
      "Guess my name.\n",
      "try again? (y/n)\n",
      "hint: Emma\n",
      "Guess my name.\n",
      "Congratulations\n",
      "9\n"
     ]
    }
   ],
   "source": [
    "Name=\"Emma\"\n",
    "Again=\"y\"\n",
    "Guesses=0\n",
    "\n",
    "while(Again==\"y\"):\n",
    "    print(\"Guess my name.\")\n",
    "    Guesses=Guesses+1\n",
    "    Guess=input(\"Guess my name.\")\n",
    "    if(Name==Guess):\n",
    "        print(\"Congratulations\")\n",
    "        break\n",
    "    elif(Name!=Guess):\n",
    "        print(\"try again? (y/n)\")\n",
    "        Again=input(\"y or n\")\n",
    "        if(Again==\"y\"):\n",
    "            print(\"hint: \"+ Name[:Guesses])\n",
    "\n",
    "print(Guesses+1)\n"
   ]
  }
 ],
 "metadata": {
  "kernelspec": {
   "display_name": "Python 3",
   "language": "python",
   "name": "python3"
  },
  "language_info": {
   "codemirror_mode": {
    "name": "ipython",
    "version": 3
   },
   "file_extension": ".py",
   "mimetype": "text/x-python",
   "name": "python",
   "nbconvert_exporter": "python",
   "pygments_lexer": "ipython3",
   "version": "3.12.0"
  }
 },
 "nbformat": 4,
 "nbformat_minor": 2
}
